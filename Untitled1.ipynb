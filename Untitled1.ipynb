{
  "nbformat": 4,
  "nbformat_minor": 0,
  "metadata": {
    "colab": {
      "provenance": [],
      "authorship_tag": "ABX9TyO0UnUAYqED4QptzFKtNSA4",
      "include_colab_link": true
    },
    "kernelspec": {
      "name": "python3",
      "display_name": "Python 3"
    },
    "language_info": {
      "name": "python"
    }
  },
  "cells": [
    {
      "cell_type": "markdown",
      "metadata": {
        "id": "view-in-github",
        "colab_type": "text"
      },
      "source": [
        "<a href=\"https://colab.research.google.com/github/Hyeytt/basic_python221125/blob/main/Untitled1.ipynb\" target=\"_parent\"><img src=\"https://colab.research.google.com/assets/colab-badge.svg\" alt=\"Open In Colab\"/></a>"
      ]
    },
    {
      "cell_type": "code",
      "execution_count": null,
      "metadata": {
        "id": "LTzh0c41mXCk"
      },
      "outputs": [],
      "source": []
    },
    {
      "cell_type": "markdown",
      "source": [
        "파일모드 종류\n",
        "\n",
        "인파일 변수, 선언ㅅㅌt를 읽기모드로 열러서 인파일에 변수에 임시 저장\n",
        "라인즈를 건언인파일을 읽어서 저장 \n",
        "\n",
        "인파일변수에 \n",
        "readlinse()에 저장 한줄로 \n",
        "\n",
        "rstrip()\n",
        "close()\n",
        "\n",
        "w, 쓰기모드로 읽음\n",
        "없는 내용을 새로 적어넣음\n",
        "/n 다음줄로 넘겨라\n",
        "\n",
        "a 모드로 추가하기 \n",
        "\n",
        "r+ 읽고 쓰기모드\n",
        "\n",
        "split함수\n",
        "\n",
        "wkfyguid wnd 캐릭터형 스트링형\n",
        "gkseksdjaks TmrpTrk tmxmfldtmTmus \n",
        "캐릭터형은 한단어만 사용\n",
        "\n",
        "pickle은 소리와 영상 등의 0\\\n",
        "\n",
        "save.p는 게임 중간에 저장 \n"
      ],
      "metadata": {
        "id": "2Vyh4tmumXih"
      }
    }
  ]
}